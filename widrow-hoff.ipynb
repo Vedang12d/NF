{
  "nbformat": 4,
  "nbformat_minor": 0,
  "metadata": {
    "colab": {
      "name": "Untitled0.ipynb",
      "provenance": []
    },
    "kernelspec": {
      "name": "python3",
      "display_name": "Python 3"
    },
    "language_info": {
      "name": "python"
    }
  },
  "cells": [
    {
      "cell_type": "code",
      "execution_count": 12,
      "metadata": {
        "colab": {
          "base_uri": "https://localhost:8080/"
        },
        "id": "1SlOnZbkcQJx",
        "outputId": "98eb2474-83ed-4b0f-fa5f-42a1b09d557d"
      },
      "outputs": [
        {
          "output_type": "stream",
          "name": "stdout",
          "text": [
            "+------+-------------------------------+-----------------------+--------+-----------------------------------+\n",
            "| Step | w                             | x                     | y      | w_new                             |\n",
            "+------+-------------------------------+-----------------------+--------+-----------------------------------+\n",
            "|  1   | [ 1.  -1.   0.   0.5]         | [ 1.  -2.   1.5  0. ] | 3.0    | [-1.   3.  -3.   0.5]             |\n",
            "|  2   | [-1.   3.  -3.   0.5]         | [ 1.  -0.5 -2.  -1.5] | 2.75   | [-4.75   4.875  4.5    6.125]     |\n",
            "|  3   | [-4.75   4.875  4.5    6.125] | [ 0.   1.  -1.   1.5] | 9.5625 | [-4.75   -4.6875 14.0625 -8.2188] |\n",
            "+------+-------------------------------+-----------------------+--------+-----------------------------------+\n"
          ]
        }
      ],
      "source": [
        "import numpy as np\n",
        "from prettytable import PrettyTable\n",
        "\n",
        "w=[1,-1,0,0.5]\n",
        "d=[1,-1,0]\n",
        "n=1\n",
        "X=[[1,-2,1.5,0],[1,-0.5,-2,-1.5], [0,1,-1,1.5]]\n",
        "steps = len(w)\n",
        "\n",
        "result = []\n",
        "for o in range(int(steps / len(X))):\n",
        "    for i in range(len(X)):\n",
        "        w_prev=w\n",
        "        x=X[i]\n",
        "        y=np.dot(w,x)\n",
        "        update=np.zeros(len(x))\n",
        "        for j in range(len(x)): \n",
        "            update[j]=n*(d[i]-y)*x[j]\n",
        "        w=np.add(w,update)\n",
        "        result.append((str(i+1+(len(X)*o)),np.round(w_prev,4),np.round(x,4),np.round(y,4),np.round(w,4)))\n",
        "\n",
        "pt=PrettyTable(('Step','w','x','y','w_new'))\n",
        "for r in result: \n",
        "  pt.add_row(r)\n",
        "pt.align['Step']='c'\n",
        "pt.align['w']='l'\n",
        "pt.align['x']='l'\n",
        "pt.align['y']='l'\n",
        "pt.align['w_new']='l'\n",
        "\n",
        "print(pt)"
      ]
    }
  ]
}